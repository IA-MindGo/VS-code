{
 "cells": [
  {
   "cell_type": "markdown",
   "id": "488da1d8",
   "metadata": {},
   "source": [
    "𝗜𝗺𝗽𝗼𝗿𝘁 math 𝗺𝗼𝗱𝘂𝗹𝗲 𝗮𝗻𝗱 𝘂𝘀𝗲 math.factorial() 𝘁𝗼 𝗳𝗶𝗻𝗱 𝗳𝗮𝗰𝘁𝗼𝗿𝗶𝗮𝗹. 𝗖𝗿𝗲𝗮𝘁𝗲 𝗮 𝗳𝘂𝗻𝗰𝘁𝗶𝗼𝗻 double(n) 𝘁𝗼 𝗿𝗲𝘁𝘂𝗿𝗻 𝘁𝘄𝗶𝗰𝗲 𝘁𝗵𝗲 𝗶𝗻𝗽𝘂𝘁. 𝗖𝗮𝗹𝗹 𝗯𝗼𝘁𝗵 𝗳𝘂𝗻𝗰𝘁𝗶𝗼𝗻𝘀"
   ]
  },
  {
   "cell_type": "code",
   "execution_count": 1,
   "id": "0c0d030a",
   "metadata": {},
   "outputs": [
    {
     "name": "stdout",
     "output_type": "stream",
     "text": [
      "The factorial of 3 is 6\n",
      "The double of 3 is 6\n"
     ]
    }
   ],
   "source": [
    "import math\n",
    "def factorial(n):\n",
    "    a = math.factorial(n)\n",
    "    return a\n",
    "\n",
    "def double(n):\n",
    "    b = n * 2\n",
    "    return b\n",
    "\n",
    "num = int(input(\"Enter a number: \"))\n",
    "print(f\"The factorial of {num} is {factorial(num)}\")\n",
    "print(f\"The double of {num} is {double(num)}\")"
   ]
  },
  {
   "cell_type": "markdown",
   "id": "77ef3b86",
   "metadata": {},
   "source": [
    " 𝗜𝗺𝗽𝗼𝗿𝘁 random 𝗮𝗻𝗱 𝘂𝘀𝗲 random.choice() 𝗼𝗻 𝗮 𝗹𝗶𝘀𝘁. 𝗗𝗲𝗳𝗶𝗻𝗲 greet(name) 𝘁𝗼 𝗽𝗿𝗶𝗻𝘁 𝗮 𝗴𝗿𝗲𝗲𝘁𝗶𝗻𝗴. 𝗨𝘀𝗲 len() 𝘁𝗼 𝗽𝗿𝗶𝗻𝘁 𝘁𝗵𝗲 𝗹𝗶𝘀𝘁 𝗹𝗲𝗻𝗴𝘁𝗵.\n"
   ]
  },
  {
   "cell_type": "code",
   "execution_count": 21,
   "id": "26dfb237",
   "metadata": {},
   "outputs": [
    {
     "name": "stdout",
     "output_type": "stream",
     "text": [
      "Length of list ['Hello', 'Hi', 'Hey', 'Greetings', 'Salutations']: 5\n",
      "Hey, isma!\n"
     ]
    }
   ],
   "source": [
    "import random\n",
    "\n",
    "def greet(name):\n",
    "    greetings = [\"Hello\", \"Hi\", \"Hey\", \"Greetings\", \"Salutations\"]\n",
    "    print(f\"Length of list {greetings}: {len(greetings)}\")\n",
    "    return f\"{random.choice(greetings)}, {name}!\"\n",
    "\n",
    "name = input(\"Enter your name: \")\n",
    "print(greet(name))\n"
   ]
  },
  {
   "cell_type": "markdown",
   "id": "0a124a48",
   "metadata": {},
   "source": [
    "𝗨𝘀𝗲 sum() 𝘁𝗼 𝗮𝗱𝗱 𝗹𝗶𝘀𝘁 𝗲𝗹𝗲𝗺𝗲𝗻𝘁𝘀. 𝗜𝗺𝗽𝗼𝗿𝘁 statistics 𝗮𝗻𝗱 𝘂𝘀𝗲 mean(). 𝗖𝗿𝗲𝗮𝘁𝗲 is_even(num) 𝘁𝗼 𝗰𝗵𝗲𝗰𝗸 𝗲𝘃𝗲𝗻 𝗻𝘂𝗺𝗯𝗲𝗿𝘀.\n"
   ]
  },
  {
   "cell_type": "code",
   "execution_count": 34,
   "id": "abd47849",
   "metadata": {},
   "outputs": [
    {
     "name": "stdout",
     "output_type": "stream",
     "text": [
      "The element of list are :[22, 34, 45, 56, 67, 78, 89, 90]\n",
      "The mean of the list is: 60.125\n",
      "The sum of the list is: 481\n",
      "Even numbers in the list are: [22, 34, 56, 78, 90]\n"
     ]
    }
   ],
   "source": [
    "import statistics\n",
    "\n",
    "num = [22, 34, 45, 56, 67, 78, 89, 90]\n",
    "print(f\"The element of list are :{num}\")\n",
    "print(f\"The mean of the list is: {statistics.mean(num)}\")\n",
    "print(f\"The sum of the list is: {sum(num)}\")\n",
    "\n",
    "def is_even(numbers):\n",
    "    return [x for x in numbers if x % 2 == 0]\n",
    "\n",
    "print(f\"Even numbers in the list are: {is_even(num)}\")"
   ]
  },
  {
   "cell_type": "markdown",
   "id": "de9de593",
   "metadata": {},
   "source": [
    "𝗜𝗺𝗽𝗼𝗿𝘁 datetime 𝗮𝗻𝗱 𝗽𝗿𝗶𝗻𝘁 𝗰𝘂𝗿𝗿𝗲𝗻𝘁 𝗱𝗮𝘁𝗲 & 𝘁𝗶𝗺𝗲 𝘂𝘀𝗶𝗻𝗴 datetime.now(). 𝗖𝗿𝗲𝗮𝘁𝗲 say_hello() 𝗳𝘂𝗻𝗰𝘁𝗶𝗼𝗻. 𝗖𝗵𝗲𝗰𝗸 𝗮 𝘃𝗮𝗿𝗶𝗮𝗯𝗹𝗲’𝘀 𝘁𝘆𝗽𝗲 𝘄𝗶𝘁𝗵 type().\n"
   ]
  },
  {
   "cell_type": "code",
   "execution_count": 36,
   "id": "d67e6270",
   "metadata": {},
   "outputs": [
    {
     "name": "stdout",
     "output_type": "stream",
     "text": [
      "Current date and time: 2025-07-10 23:39:14.642470\n",
      "Hello, World!\n",
      "The type of the variable Hello is: <class 'str'>\n"
     ]
    }
   ],
   "source": [
    "import datetime\n",
    "\n",
    "current_time = datetime.datetime.now()\n",
    "print(f\"Current date and time: {current_time}\")\n",
    "\n",
    "def say_hello():\n",
    "    print(\"Hello, World!\")\n",
    "\n",
    "x = say_hello()\n",
    "\n",
    "def check_type(variable):\n",
    "    return type(variable)\n",
    "\n",
    "variable = \"Hello\"\n",
    "print(f\"The type of the variable {variable} is: {check_type(variable)}\")"
   ]
  },
  {
   "cell_type": "markdown",
   "id": "622a72f0",
   "metadata": {},
   "source": [
    "𝗖𝗿𝗲𝗮𝘁𝗲 area_of_circle(radius) 𝘂𝘀𝗶𝗻𝗴 𝝅r². 𝗜𝗺𝗽𝗼𝗿𝘁 math 𝗮𝗻𝗱 𝘂𝘀𝗲 math.pi. 𝗣𝗿𝗶𝗻𝘁 𝘁𝗵𝗲 𝗮𝗿𝗲𝗮 𝗮𝗻𝗱 𝗰𝗵𝗲𝗰𝗸 𝘁𝘆𝗽𝗲.\n"
   ]
  },
  {
   "cell_type": "code",
   "execution_count": 37,
   "id": "1f4096fa",
   "metadata": {},
   "outputs": [
    {
     "name": "stdout",
     "output_type": "stream",
     "text": [
      "The area of the circle with radius 2.0 is: 12.566370614359172\n",
      "The type of the area is: float\n"
     ]
    }
   ],
   "source": [
    "import math\n",
    "\n",
    "def area_of_circle(radius):\n",
    "    return math.pi * (radius ** 2)\n",
    "\n",
    "radius = float(input(\"Enter the radius of the circle: \"))\n",
    "print(f\"The area of the circle with radius {radius} is: {area_of_circle(radius)}\")\n",
    "print(f\"The type of the area is: {type(area_of_circle(radius)).__name__}\")"
   ]
  },
  {
   "cell_type": "markdown",
   "id": "80e07949",
   "metadata": {},
   "source": [
    " 𝗜𝗺𝗽𝗼𝗿𝘁 random. 𝗚𝗲𝗻𝗲𝗿𝗮𝘁𝗲 𝗮 𝗿𝗮𝗻𝗱𝗼𝗺 𝗻𝘂𝗺𝗯𝗲𝗿 𝘂𝘀𝗶𝗻𝗴 randint(10, 100). 𝗗𝗲𝗳𝗶𝗻𝗲 check_number(num) 𝘁𝗼 𝗰𝗵𝗲𝗰𝗸 𝗶𝗳 𝗴𝗿𝗲𝗮𝘁𝗲𝗿 𝘁𝗵𝗮𝗻 𝟱𝟬.\n"
   ]
  },
  {
   "cell_type": "code",
   "execution_count": 38,
   "id": "ea86b70c",
   "metadata": {},
   "outputs": [
    {
     "name": "stdout",
     "output_type": "stream",
     "text": [
      "The random number is: 41\n",
      "The number is less than 50\n"
     ]
    }
   ],
   "source": [
    "import random\n",
    "\n",
    "def check_number(num):\n",
    "    if num > 50:\n",
    "        return \"The number is greater than 50\"\n",
    "    elif num < 50:\n",
    "        return \"The number is less than 50\"\n",
    "    else:\n",
    "        return \"The number is equal to 50\"\n",
    "\n",
    "num = random.randint(10, 100)\n",
    "print(f\"The random number is: {num}\")\n",
    "print(check_number(num))"
   ]
  },
  {
   "cell_type": "markdown",
   "id": "1009dbb0",
   "metadata": {},
   "source": [
    "𝗨𝘀𝗲 max() 𝗼𝗻 𝗮 𝗹𝗶𝘀𝘁. 𝗜𝗺𝗽𝗼𝗿𝘁 math 𝗮𝗻𝗱 𝘂𝘀𝗲 math.pow(x, y). 𝗖𝗿𝗲𝗮𝘁𝗲 display_info() 𝘁𝗼 𝗽𝗿𝗶𝗻𝘁 𝗻𝗮𝗺𝗲 & 𝗮𝗴𝗲.\n",
    "\n"
   ]
  },
  {
   "cell_type": "code",
   "execution_count": 39,
   "id": "e2472203",
   "metadata": {},
   "outputs": [
    {
     "name": "stdout",
     "output_type": "stream",
     "text": [
      "The power of 3 to 3 is: 27.0\n",
      "The maximum number in the list [1, 2, 3, 4, 5] is: 5\n",
      "Name: isma, Age: 36\n"
     ]
    }
   ],
   "source": [
    "import math\n",
    "\n",
    "x = input(\"Enter a number: \")\n",
    "y = input(\"Enter the power: \")\n",
    "result = math.pow(float(x), float(y))\n",
    "print(f\"The power of {x} to {y} is: {result}\")\n",
    "\n",
    "num = [1, 2, 3, 4, 5]\n",
    "print(f\"The maximum number in the list {num} is: {max(num)}\")\n",
    "\n",
    "def display_info(name, age):\n",
    "    print(f\"Name: {name}, Age: {age}\")\n",
    "\n",
    "name = input(\"Enter your name: \")\n",
    "age = int(input(\"Enter your age: \"))    \n",
    "display_info(name, age)\n"
   ]
  },
  {
   "cell_type": "markdown",
   "id": "078e08a3",
   "metadata": {},
   "source": [
    " 𝗜𝗺𝗽𝗼𝗿𝘁 calendar. 𝗣𝗿𝗶𝗻𝘁 𝗠𝗮𝘆 𝟮𝟬𝟮𝟱 𝘂𝘀𝗶𝗻𝗴 calendar.month(2025, 5). 𝗖𝗼𝘂𝗻𝘁 𝗰𝗵𝗮𝗿𝗮𝗰𝘁𝗲𝗿𝘀 𝘄𝗶𝘁𝗵 len(). 𝗗𝗲𝗳𝗶𝗻𝗲 show_message().\n",
    "\n"
   ]
  },
  {
   "cell_type": "code",
   "execution_count": 40,
   "id": "4207532c",
   "metadata": {},
   "outputs": [
    {
     "name": "stdout",
     "output_type": "stream",
     "text": [
      "The calender of May 2025 is:       May 2025\n",
      "Mo Tu We Th Fr Sa Su\n",
      "          1  2  3  4\n",
      " 5  6  7  8  9 10 11\n",
      "12 13 14 15 16 17 18\n",
      "19 20 21 22 23 24 25\n",
      "26 27 28 29 30 31\n",
      "\n",
      "Message: This is a sample message., \n",
      " The character in the message are: 25\n"
     ]
    }
   ],
   "source": [
    "import calendar\n",
    "\n",
    "print(\"The calender of May 2025 is:\", calendar.month(2025, 5))\n",
    "\n",
    "def show_message():\n",
    "    message = \"This is a sample message.\"\n",
    "    l = len(message)\n",
    "    return f\"Message: {message}, \\n The character in the message are: {l}\"       \n",
    "print(show_message())"
   ]
  },
  {
   "cell_type": "markdown",
   "id": "4fcded0c",
   "metadata": {},
   "source": [
    " 𝗜𝗺𝗽𝗼𝗿𝘁 os, 𝗽𝗿𝗶𝗻𝘁 𝗰𝘂𝗿𝗿𝗲𝗻𝘁 𝗱𝗶𝗿 𝘂𝘀𝗶𝗻𝗴 os.getcwd(). 𝗖𝗼𝗻𝘃𝗲𝗿𝘁 𝗶𝗻𝘁 𝘁𝗼 𝘀𝘁𝗿𝗶𝗻𝗴 𝘄𝗶𝘁𝗵 str(). 𝗖𝗿𝗲𝗮𝘁𝗲 multiply(x, y) 𝘁𝗼 𝗿𝗲𝘁𝘂𝗿𝗻 𝗽𝗿𝗼𝗱𝘂𝗰𝘁.\n"
   ]
  },
  {
   "cell_type": "code",
   "execution_count": 41,
   "id": "1b8b135b",
   "metadata": {},
   "outputs": [
    {
     "name": "stdout",
     "output_type": "stream",
     "text": [
      "Current working directory: c:\\Users\\Isma Rashid\\Documents\\GitHub\\VS-code\n",
      "The value of x is: 10 and its type is: int\n",
      "The value of v is: 10 and its type is: str\n",
      "The multiplication of 34 and 35 is: 1190\n"
     ]
    }
   ],
   "source": [
    "import os\n",
    "\n",
    "print(\"Current working directory:\", os.getcwd())\n",
    "\n",
    "x = 10\n",
    "v = str(x)\n",
    "print(f\"The value of x is: {x} and its type is: {type(x).__name__}\")\n",
    "print(f\"The value of v is: {v} and its type is: {type(v).__name__}\")\n",
    "\n",
    "def multiply(a, b):\n",
    "    return a * b\n",
    "\n",
    "a = int(input(\"Enter first number: \"))\n",
    "b = int(input(\"Enter second number: \"))\n",
    "print(f\"The multiplication of {a} and {b} is: {multiply(a, b)}\")"
   ]
  },
  {
   "cell_type": "markdown",
   "id": "41b4de94",
   "metadata": {},
   "source": [
    "𝗗𝗲𝗳𝗶𝗻𝗲 calculate_square_root(num) 𝘂𝘀𝗶𝗻𝗴 math.sqrt(). 𝗧𝗮𝗸𝗲 𝘂𝘀𝗲𝗿 𝗶𝗻𝗽𝘂𝘁, 𝗰𝗼𝗻𝘃𝗲𝗿𝘁 𝘁𝗼 int, 𝗰𝗵𝗲𝗰𝗸 𝘁𝘆𝗽𝗲, 𝗮𝗻𝗱 𝗽𝗿𝗶𝗻𝘁 𝘀𝗾𝘂𝗮𝗿𝗲 𝗿𝗼𝗼𝘁.\n"
   ]
  },
  {
   "cell_type": "code",
   "execution_count": 42,
   "id": "33811f63",
   "metadata": {},
   "outputs": [
    {
     "name": "stdout",
     "output_type": "stream",
     "text": [
      "The type of the number 5 is: int\n",
      "The square root of 5 is: 2.23606797749979\n"
     ]
    }
   ],
   "source": [
    "import  math\n",
    "\n",
    "def calculate_square_root(num):\n",
    "    return math.sqrt(num)\n",
    "\n",
    "num : float = input(\"Enter a number to find its square root: \")\n",
    "num1 = int(num)\n",
    "print(f\"The type of the number {num1} is: {type(num1).__name__}\")\n",
    "print(f\"The square root of {num} is: {calculate_square_root(float(num))}\")\n"
   ]
  }
 ],
 "metadata": {
  "kernelspec": {
   "display_name": "Python 3",
   "language": "python",
   "name": "python3"
  },
  "language_info": {
   "codemirror_mode": {
    "name": "ipython",
    "version": 3
   },
   "file_extension": ".py",
   "mimetype": "text/x-python",
   "name": "python",
   "nbconvert_exporter": "python",
   "pygments_lexer": "ipython3",
   "version": "3.13.5"
  }
 },
 "nbformat": 4,
 "nbformat_minor": 5
}

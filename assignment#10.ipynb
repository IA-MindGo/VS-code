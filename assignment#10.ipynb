{
 "cells": [
  {
   "cell_type": "code",
   "execution_count": 1,
   "id": "f8fe388f",
   "metadata": {},
   "outputs": [
    {
     "name": "stdout",
     "output_type": "stream",
     "text": [
      "Converted numbers and their types:\n",
      "Value: 25, Type: int (30 or less)\n",
      "Value: 35, Type: int (greater than 30)\n",
      "Value: 50, Type: int (greater than 30)\n"
     ]
    }
   ],
   "source": [
    "#𝗖𝗿𝗲𝗮𝘁𝗲 𝗮 𝗹𝗶𝘀𝘁 [\"𝟭𝟱\", \"𝟮𝟱\", \"𝟰𝟬\"]. 𝗖𝗼𝗻𝘃𝗲𝗿𝘁 𝗲𝗮𝗰𝗵 𝘁𝗼 int, 𝗮𝗱𝗱 𝟭𝟬, 𝘀𝘁𝗼𝗿𝗲 𝗶𝗻 𝗮 𝗻𝗲𝘄 tuple. 𝗣𝗿𝗶𝗻𝘁 𝗲𝗮𝗰𝗵 𝗲𝗹𝗲𝗺𝗲𝗻𝘁 𝗮𝗻𝗱 𝘁𝘆𝗽𝗲, 𝗮𝗻𝗱 𝗹𝗮𝗯𝗲𝗹 𝘃𝗮𝗹𝘂𝗲𝘀 > 𝟯𝟬 𝘂𝘀𝗶𝗻𝗴 if-else.\n",
    "numbers = [\"15\", \"25\", \"40\"]\n",
    "converted_numbers = [int(num) + 10 for num in numbers]\n",
    "number_tuples = tuple(converted_numbers)\n",
    "print(\"Converted numbers and their types:\")\n",
    "for num in number_tuples:\n",
    "    if num > 30:\n",
    "        print(f\"Value: {num}, Type: {type(num).__name__} (greater than 30)\")\n",
    "    else:\n",
    "        print(f\"Value: {num}, Type: {type(num).__name__} (30 or less)\")"
   ]
  },
  {
   "cell_type": "code",
   "execution_count": 2,
   "id": "d48ec700",
   "metadata": {},
   "outputs": [
    {
     "name": "stdout",
     "output_type": "stream",
     "text": [
      "User Info Dictionary: {'name': 'isma', 'age': 36, 'city': 'gujrahwala'}\n",
      "User Info Tuple: ('isma', 36, 'gujrahwala')\n",
      "isma, you are eligible to vote.\n"
     ]
    }
   ],
   "source": [
    "#𝗧𝗮𝗸𝗲 𝘂𝘀𝗲𝗿 𝗶𝗻𝗽𝘂𝘁 𝗳𝗼𝗿 𝗻𝗮𝗺𝗲, 𝗮𝗴𝗲 (𝗮𝘀 𝘀𝘁𝗿𝗶𝗻𝗴), 𝗮𝗻𝗱 𝗰𝗶𝘁𝘆. 𝗖𝗼𝗻𝘃𝗲𝗿𝘁 𝗮𝗴𝗲 𝘁𝗼 int, 𝗮𝗱𝗱 𝗶𝗻𝘁𝗼 𝗱𝗶𝗰𝘁 & tuple, 𝗰𝗵𝗲𝗰𝗸 𝗲𝗹𝗶𝗴𝗶𝗯𝗶𝗹𝗶𝘁𝘆 𝗳𝗼𝗿 𝘃𝗼𝘁𝗶𝗻𝗴.\n",
    "name = input(\"Enter your name: \")\n",
    "age = input(\"Enter your age: \") \n",
    "city = input(\"Enter your city: \")\n",
    "age = int(age)  # Convert age to integer\n",
    "user_info_dict = {\"name\": name, \"age\": age, \"city\": city}\n",
    "user_info_tuple = (name, age, city)\n",
    "print(f\"User Info Dictionary: {user_info_dict}\")\n",
    "print(f\"User Info Tuple: {user_info_tuple}\")\n",
    "if age >= 18:\n",
    "    print(f\"{name}, you are eligible to vote.\")\n",
    "else:\n",
    "    print(f\"{name}, you are not eligible to vote yet.\")"
   ]
  },
  {
   "cell_type": "code",
   "execution_count": 3,
   "id": "bcca050a",
   "metadata": {},
   "outputs": [
    {
     "name": "stdout",
     "output_type": "stream",
     "text": [
      "Mark: 55, Result: Pass, Type: int\n",
      "Mark: 45, Result: Fail, Type: int\n",
      "Mark: 85, Result: Pass, Type: int\n",
      "Mark: 35, Result: Fail, Type: int\n"
     ]
    }
   ],
   "source": [
    "#𝗖𝗿𝗲𝗮𝘁𝗲 𝗮 𝗹𝗶𝘀𝘁 [\"𝟱𝟱\", \"𝟰𝟱\", \"𝟴𝟱\", \"𝟯𝟱\"]. 𝗖𝗼𝗻𝘃𝗲𝗿𝘁 𝘁𝗼 int, 𝗰𝗹𝗮𝘀𝘀𝗶𝗳𝘆 𝗮𝘀 \"𝗣𝗮𝘀𝘀\"/\"𝗙𝗮𝗶𝗹\" 𝘂𝘀𝗶𝗻𝗴 if-else, 𝘀𝘁𝗼𝗿𝗲 𝗶𝗻 𝗱𝗶𝗰𝘁, 𝗽𝗿𝗶𝗻𝘁 𝗲𝗮𝗰𝗵 𝘄𝗶𝘁𝗵 type().\n",
    "str_marks = [\"55\", \"45\", \"85\", \"35\"]\n",
    "marks = [int(mark) for mark in str_marks]\n",
    "marks_dict = {}\n",
    "for mark in marks:\n",
    "    if mark >= 50:\n",
    "        result = \"Pass\"\n",
    "    else:\n",
    "        result = \"Fail\"\n",
    "    marks_dict[mark] = result\n",
    "    print(f\"Mark: {mark}, Result: {result}, Type: {type(mark).__name__}\")"
   ]
  },
  {
   "cell_type": "code",
   "execution_count": 5,
   "id": "dce43fe5",
   "metadata": {},
   "outputs": [
    {
     "name": "stdout",
     "output_type": "stream",
     "text": [
      "User Info:\n",
      "name: Farah, Type: str\n",
      "age: 20, Type: int\n",
      "score: 93.5, Type: float\n"
     ]
    }
   ],
   "source": [
    "#𝗗𝗲𝗳𝗶𝗻𝗲 𝗮 tuple (\"𝗙𝗮𝗿𝗮𝗵\", \"𝟮𝟬\", \"𝟴𝟴.𝟱\"). 𝗖𝗮𝘀𝘁 𝗮𝗴𝗲 𝘁𝗼 int, 𝘀𝗰𝗼𝗿𝗲 𝘁𝗼 float, 𝗮𝗱𝗱 𝟱 𝘁𝗼 𝘀𝗰𝗼𝗿𝗲, 𝗽𝘂𝘁 𝗶𝗻 𝗱𝗶𝗰𝘁, 𝗽𝗿𝗶𝗻𝘁 𝘂𝘀𝗶𝗻𝗴 𝗹𝗼𝗼𝗽.\n",
    "info_tuple = (\"Farah\", \"20\", \"88.5\")\n",
    "name, age_str, score_str = info_tuple\n",
    "age = int(age_str)  # Convert age to integer\n",
    "score = float(score_str) + 5  # Add 5 to score and convert to float\n",
    "info_dict = {\"name\": name, \"age\": age, \"score\": score}\n",
    "print(\"User Info:\")\n",
    "for key, value in info_dict.items():\n",
    "    print(f\"{key}: {value}, Type: {type(value).__name__}\")"
   ]
  },
  {
   "cell_type": "code",
   "execution_count": 6,
   "id": "aa7d3786",
   "metadata": {},
   "outputs": [
    {
     "name": "stdout",
     "output_type": "stream",
     "text": [
      "Dictionary of Names:\n",
      " {'Ana': {'length': 3, 'label': 'short'}, 'Sana': {'length': 4, 'label': 'medium'}, 'Salman': {'length': 6, 'label': 'long'}}\n"
     ]
    }
   ],
   "source": [
    "#𝗟𝗶𝘀𝘁 𝗼𝗳 𝗻𝗮𝗺𝗲𝘀 = [\"𝗔𝗻𝗮\", \"𝗦𝗮𝗻𝗮\", \"𝗦𝗮𝗹𝗺𝗮𝗻\"]. 𝗖𝗼𝘂𝗻𝘁 𝗻𝗮𝗺𝗲𝘀 > 𝟰 𝗹𝗲𝘁𝘁𝗲𝗿𝘀. 𝗖𝗿𝗲𝗮𝘁𝗲 𝗱𝗶𝗰𝘁: 𝗻𝗮𝗺𝗲 ➝ 𝗹𝗲𝗻𝗴𝘁𝗵, 𝗹𝗮𝗯𝗲𝗹 𝗮𝘀 \"𝘀𝗵𝗼𝗿𝘁\"/\"𝗺𝗲𝗱𝗶𝘂𝗺\"/\"𝗹𝗼𝗻𝗴\".\n",
    "names = [\"Ana\", \"Sana\", \"Salman\"]\n",
    "names_dict = {}\n",
    "for name in names:\n",
    "    if len(name) > 4:\n",
    "        length_label = \"long\"\n",
    "    elif len(name) == 4:\n",
    "        length_label = \"medium\"\n",
    "    else:\n",
    "        length_label = \"short\"\n",
    "    names_dict[name] = {\"length\": len(name), \"label\": length_label}\n",
    "print(\"Dictionary of Names:\\n\", names_dict)\n"
   ]
  },
  {
   "cell_type": "code",
   "execution_count": 7,
   "id": "cb8dccad",
   "metadata": {},
   "outputs": [
    {
     "name": "stdout",
     "output_type": "stream",
     "text": [
      "Product: tea, Price: 400.0 (highlighted), Type: float\n",
      "Product: rice, Price: 300.0 (highlighted), Type: float\n",
      "Product: milk, Price: 200.0 (highlighted), Type: float\n"
     ]
    }
   ],
   "source": [
    "#𝗜𝗻𝗽𝘂𝘁 𝗽𝗿𝗼𝗱𝘂𝗰𝘁 𝗻𝗮𝗺𝗲𝘀 & 𝗽𝗿𝗶𝗰𝗲𝘀 (𝗮𝘀 𝘀𝘁𝗿𝗶𝗻𝗴𝘀). 𝗖𝗮𝘀𝘁 𝗽𝗿𝗶𝗰𝗲𝘀 𝘁𝗼 float, 𝗽𝘂𝘁 𝗶𝗻 𝗱𝗶𝗰𝘁, 𝗽𝗿𝗶𝗻𝘁 𝘄𝗶𝘁𝗵 if 𝗵𝗶𝗴𝗵𝗹𝗶𝗴𝗵𝘁𝗶𝗻𝗴 𝗶𝘁𝗲𝗺𝘀 > 𝟭𝟬𝟬.\n",
    "\n",
    "products = []\n",
    "while True:\n",
    "    product_name = input(\"Enter product name (or 'done' to finish): \")\n",
    "    if product_name.lower() == 'done':\n",
    "        break\n",
    "    price_str = input(f\"Enter price for {product_name}: \")\n",
    "    try:\n",
    "        price = float(price_str)\n",
    "        products.append((product_name, price))\n",
    "    except ValueError:\n",
    "        print(\"Invalid price. Please enter a valid number.\")\n",
    "products_dict = {}\n",
    "for product, price in products:\n",
    "    if price > 100:\n",
    "        highlight = \" (highlighted)\"\n",
    "    else:\n",
    "        highlight = \"\"\n",
    "    products_dict[product] = {\"price\": price, \"highlight\": highlight}\n",
    "    print(f\"Product: {product}, Price: {price}{highlight}, Type: {type(price).__name__}\")"
   ]
  },
  {
   "cell_type": "code",
   "execution_count": 8,
   "id": "53ea8e98",
   "metadata": {},
   "outputs": [
    {
     "name": "stdout",
     "output_type": "stream",
     "text": [
      "Value: 100.0, Type: float, Category: Below 250\n",
      "Value: 200.0, Type: float, Category: Below 250\n",
      "Value: 300.5, Type: float, Category: Above 250\n",
      "Value: 400.0, Type: float, Category: Above 250\n"
     ]
    }
   ],
   "source": [
    "#𝗠𝗶𝘅𝗲𝗱 𝗹𝗶𝘀𝘁 = [\"𝟭𝟬𝟬\", 𝟮𝟬𝟬, 𝟯𝟬𝟬.𝟱, \"𝟰𝟬𝟬\"]. 𝗖𝗼𝗻𝘃𝗲𝗿𝘁 𝘁𝗼 float, 𝗽𝗿𝗶𝗻𝘁 𝗮𝗻𝗱 𝗰𝗮𝘁𝗲𝗴𝗼𝗿𝗶𝘇𝗲 𝗮𝘀 \"𝗔𝗯𝗼𝘃𝗲 𝟮𝟱𝟬\"/\"𝗕𝗲𝗹𝗼𝘄 𝟮𝟱𝟬\".\n",
    "mixed_list = [\"100\", 200, 300.5, \"400\"]\n",
    "converted_floats = [float(item) for item in mixed_list]\n",
    "for value in converted_floats:\n",
    "    if value > 250:\n",
    "        category = \"Above 250\"\n",
    "    else:\n",
    "        category = \"Below 250\"\n",
    "    print(f\"Value: {value}, Type: {type(value).__name__}, Category: {category}\")"
   ]
  },
  {
   "cell_type": "code",
   "execution_count": 9,
   "id": "8f566982",
   "metadata": {},
   "outputs": [
    {
     "name": "stdout",
     "output_type": "stream",
     "text": [
      "User Info Dictionary:\n",
      "name: Ali, Type: str\n",
      "age: 25, Type: int\n",
      "is_student: True, Type: bool\n"
     ]
    }
   ],
   "source": [
    "#𝗧𝘂𝗽𝗹𝗲 = (\"𝗔𝗹𝗶\", \"𝟮𝟱\", \"𝗧𝗿𝘂𝗲\"). 𝗖𝗼𝗻𝘃𝗲𝗿𝘁 𝗮𝗴𝗲 𝘁𝗼 int, 𝘀𝘁𝗿𝗶𝗻𝗴 𝗧𝗿𝘂𝗲 𝘁𝗼 bool, 𝘀𝘁𝗼𝗿𝗲 𝗶𝗻 𝗱𝗶𝗰𝘁, 𝗽𝗿𝗶𝗻𝘁 𝗸𝗲𝘆-𝘃𝗮𝗹𝘂𝗲𝘀 𝘄𝗶𝘁𝗵 𝘀𝘁𝘂𝗱𝗲𝗻𝘁 𝗰𝗵𝗲𝗰𝗸.\n",
    "info_tuple = (\"Ali\", \"25\", \"True\")\n",
    "name, age_str, is_student_str = info_tuple\n",
    "age = int(age_str)  # Convert age to integer\n",
    "is_student = is_student_str.lower() == \"true\"  # Convert string to boolean\n",
    "info_dict = {\"name\": name, \"age\": age, \"is_student\": is_student}\n",
    "print(\"User Info Dictionary:\")\n",
    "for key, value in info_dict.items():\n",
    "    print(f\"{key}: {value}, Type: {type(value).__name__}\")"
   ]
  },
  {
   "cell_type": "code",
   "execution_count": 11,
   "id": "feb509d8",
   "metadata": {},
   "outputs": [
    {
     "name": "stdout",
     "output_type": "stream",
     "text": [
      "Subject Marks:\n",
      " {'Math': '90', 'English': '85'}\n",
      "Total Marks: 175, Average Marks: 87.5, Grade: B\n"
     ]
    }
   ],
   "source": [
    "#𝗦𝘂𝗯𝗷𝗲𝗰𝘁𝘀 𝗱𝗶𝗰𝘁 = {\"𝗠𝗮𝘁𝗵\": \"𝟵𝟬\", \"𝗘𝗻𝗴𝗹𝗶𝘀𝗵\": \"𝟴𝟱\"}. 𝗖𝗼𝗻𝘃𝗲𝗿𝘁 𝘁𝗼 int, 𝗰𝗮𝗹𝗰𝘂𝗹𝗮𝘁𝗲 𝘁𝗼𝘁𝗮𝗹 & 𝗮𝘃𝗲𝗿𝗮𝗴𝗲, 𝗮𝘀𝘀𝗶𝗴𝗻 𝗴𝗿𝗮𝗱𝗲𝘀 𝘂𝘀𝗶𝗻𝗴 if-elif-else.\n",
    "subject_dict = {\"Math\": \"90\", \"English\": \"85\"}\n",
    "total_marks = sum(int(mark) for mark in subject_dict.values())\n",
    "average_marks = total_marks / len(subject_dict)\n",
    "if average_marks >= 90:\n",
    "    grade = \"A\"\n",
    "elif average_marks >= 80:\n",
    "    grade = \"B\"\n",
    "elif average_marks >= 70:\n",
    "    grade = \"C\"\n",
    "elif average_marks >= 60:\n",
    "    grade = \"D\" \n",
    "else:\n",
    "    grade = \"F\" \n",
    "print(\"Subject Marks:\\n\", subject_dict)\n",
    "print(f\"Total Marks: {total_marks}, Average Marks: {average_marks}, Grade: {grade}\")"
   ]
  },
  {
   "cell_type": "code",
   "execution_count": 12,
   "id": "0bf99860",
   "metadata": {},
   "outputs": [
    {
     "name": "stdout",
     "output_type": "stream",
     "text": [
      "Gadgets and Prices:\n",
      "smart watch: 700.0\n",
      "speaker: 600.0\n",
      "LAPTOP: 110000.0\n",
      "tablet: 900.0\n",
      "headphones: 300.0\n",
      "Total Price: 112500.0\n",
      "Expensive Items: {'smart watch': 700.0, 'speaker': 600.0, 'LAPTOP': 110000.0, 'tablet': 900.0, 'headphones': 300.0}\n"
     ]
    }
   ],
   "source": [
    "# 𝗔𝘀𝗸 𝘂𝘀𝗲𝗿 𝗳𝗼𝗿 𝟱 𝗴𝗮𝗱𝗴𝗲𝘁 𝗻𝗮𝗺𝗲𝘀 (𝘀𝘁𝗿𝗶𝗻𝗴𝘀), 𝗰𝗼𝗻𝘃𝗲𝗿𝘁 𝟯𝗿𝗱 𝘁𝗼 uppercase(), 𝘀𝘁𝗼𝗿𝗲 𝗽𝗿𝗶𝗰𝗲𝘀 𝗶𝗻 𝗮𝗻𝗼𝘁𝗵𝗲𝗿 𝗹𝗶𝘀𝘁, 𝗰𝗮𝗹𝗰𝘂𝗹𝗮𝘁𝗲 𝘁𝗼𝘁𝗮𝗹 & 𝗳𝗹𝗮𝗴 𝗲𝘅𝗽𝗲𝗻𝘀𝗶𝘃𝗲 𝗶𝘁𝗲𝗺𝘀 𝗶𝗻 𝗱𝗶𝗰𝘁.\n",
    "gadgets = []\n",
    "prices = [] \n",
    "while True:\n",
    "    gadget_name = input(\"Enter gadget name (or 'done' to finish): \")\n",
    "    if gadget_name.lower() == 'done':\n",
    "        break\n",
    "    price_str = input(f\"Enter price for {gadget_name}: \")\n",
    "    try:\n",
    "        price = float(price_str)\n",
    "        gadgets.append(gadget_name)\n",
    "        prices.append(price)\n",
    "    except ValueError:\n",
    "        print(\"Invalid price. Please enter a valid number.\")\n",
    "if len(gadgets) >= 3:\n",
    "    gadgets[2] = gadgets[2].upper()  # Convert 3rd gadget name to uppercase\n",
    "total_price = sum(prices)\n",
    "expensive_items = {gadget: price for gadget, price in zip(gadgets, prices) if price > 100}\n",
    "print(\"Gadgets and Prices:\")    \n",
    "for gadget, price in zip(gadgets, prices):\n",
    "    print(f\"{gadget}: {price}\")\n",
    "print(f\"Total Price: {total_price}\")\n",
    "print(\"Expensive Items:\", expensive_items)  "
   ]
  }
 ],
 "metadata": {
  "kernelspec": {
   "display_name": "Python 3",
   "language": "python",
   "name": "python3"
  },
  "language_info": {
   "codemirror_mode": {
    "name": "ipython",
    "version": 3
   },
   "file_extension": ".py",
   "mimetype": "text/x-python",
   "name": "python",
   "nbconvert_exporter": "python",
   "pygments_lexer": "ipython3",
   "version": "3.13.5"
  }
 },
 "nbformat": 4,
 "nbformat_minor": 5
}

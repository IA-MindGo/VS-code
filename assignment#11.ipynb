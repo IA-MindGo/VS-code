{
 "cells": [
  {
   "cell_type": "markdown",
   "id": "0b08ff48",
   "metadata": {},
   "source": [
    "𝗖𝗿𝗲𝗮𝘁𝗲 𝗮 𝘀𝗲𝘁 {𝟭𝟬, 𝟮𝟬, 𝟯𝟬}, 𝘂𝘀𝗲 add() 𝘁𝗼 𝗮𝗱𝗱 𝟱𝟬, 𝘁𝗵𝗲𝗻 update() 𝘄𝗶𝘁𝗵 𝗮 𝗹𝗶𝘀𝘁 [𝟰𝟬, 𝟲𝟬]. 𝗣𝗿𝗶𝗻𝘁 𝘁𝗵𝗲 𝗳𝗶𝗻𝗮𝗹 𝘀𝗲𝘁.\n"
   ]
  },
  {
   "cell_type": "code",
   "execution_count": 5,
   "id": "38c63fa5",
   "metadata": {},
   "outputs": [
    {
     "name": "stdout",
     "output_type": "stream",
     "text": [
      "The orignal set is {10, 20, 30}\n",
      "The set after adding 50 is {10, 20, 50, 30}\n",
      "The set after using update function is {40, 10, 50, 20, 60, 30}\n"
     ]
    }
   ],
   "source": [
    "a = {10,20,30}\n",
    "print(f\"The orignal set is {a}\")\n",
    "a.add(50)\n",
    "print(f\"The set after adding 50 is {a}\")\n",
    "a.update([40,60])\n",
    "print(f\"The set after using update function is {a}\")"
   ]
  },
  {
   "cell_type": "markdown",
   "id": "20bcbbd6",
   "metadata": {},
   "source": [
    "𝗖𝗿𝗲𝗮𝘁𝗲 𝗮 𝘀𝗲𝘁 𝗼𝗳 𝗳𝗿𝘂𝗶𝘁𝘀 {“𝗮𝗽𝗽𝗹𝗲”, “𝗯𝗮𝗻𝗮𝗻𝗮”, “𝗰𝗵𝗲𝗿𝗿𝘆”}, 𝗿𝗲𝗺𝗼𝘃𝗲 \"𝗯𝗮𝗻𝗮𝗻𝗮\" 𝘄𝗶𝘁𝗵 remove() 𝗮𝗻𝗱 \"𝗼𝗿𝗮𝗻𝗴𝗲\" 𝘄𝗶𝘁𝗵 discard(). 𝗢𝗯𝘀𝗲𝗿𝘃𝗲 𝘁𝗵𝗲 𝗱𝗶𝗳𝗳𝗲𝗿𝗲𝗻𝗰𝗲 𝗶𝗻 𝗲𝗿𝗿𝗼𝗿 𝗵𝗮𝗻𝗱𝗹𝗶𝗻𝗴.\n"
   ]
  },
  {
   "cell_type": "code",
   "execution_count": 6,
   "id": "c789f0da",
   "metadata": {},
   "outputs": [
    {
     "name": "stdout",
     "output_type": "stream",
     "text": [
      "The original set is {'banana', 'cherry', 'apple'}\n",
      "The set after removing 'banana' is {'cherry', 'apple'}\n",
      "The set after discarding 'orange' (not present) is {'cherry', 'apple'}\n"
     ]
    }
   ],
   "source": [
    "fruits = {\"apple\", \"banana\", \"cherry\"}\n",
    "print(f\"The original set is {fruits}\")\n",
    "fruits.remove(\"banana\")\n",
    "print(f\"The set after removing 'banana' is {fruits}\")\n",
    "fruits.discard(\"orange\")\n",
    "print(f\"The set after discarding 'orange' (not present) is {fruits}\")"
   ]
  },
  {
   "cell_type": "markdown",
   "id": "ca724086",
   "metadata": {},
   "source": [
    "𝗖𝗿𝗲𝗮𝘁𝗲 𝘀𝗲𝘁 {“𝗿𝗲𝗱”, “𝗴𝗿𝗲𝗲𝗻”, “𝗯𝗹𝘂𝗲”}. 𝗥𝗲𝗺𝗼𝘃𝗲 𝗼𝗻𝗲 𝗶𝘁𝗲𝗺 𝘄𝗶𝘁𝗵 pop() 𝘁𝗵𝗲𝗻 𝗲𝗺𝗽𝘁𝘆 𝘁𝗵𝗲 𝘀𝗲𝘁 𝘄𝗶𝘁𝗵 clear(). 𝗣𝗿𝗶𝗻𝘁 𝗮𝗳𝘁𝗲𝗿 𝗲𝗮𝗰𝗵.\n"
   ]
  },
  {
   "cell_type": "code",
   "execution_count": 9,
   "id": "a6bebbb6",
   "metadata": {},
   "outputs": [
    {
     "name": "stdout",
     "output_type": "stream",
     "text": [
      "The original set is {'green', 'red', 'blue'}\n",
      "The set after popping an element is {'red', 'blue'}\n",
      "The set after clearing all elements is set()\n"
     ]
    }
   ],
   "source": [
    "colour = {\"red\", \"green\", \"blue\"}\n",
    "print(f\"The original set is {colour}\")  \n",
    "colour.pop()\n",
    "print(f\"The set after popping an element is {colour}\")  \n",
    "colour.clear()\n",
    "print(f\"The set after clearing all elements is {colour}\")"
   ]
  },
  {
   "cell_type": "markdown",
   "id": "66c666c1",
   "metadata": {},
   "source": [
    "𝗚𝗶𝘃𝗲𝗻: set1 = {1, 2, 3, 4}, set2 = {3, 4, 5, 6}, 𝗽𝗲𝗿𝗳𝗼𝗿𝗺 𝘁𝗵𝗲 𝗳𝗼𝗹𝗹𝗼𝘄𝗶𝗻𝗴: union(), intersection(), difference(), symmetric_difference(). 𝗣𝗿𝗶𝗻𝘁 𝗿𝗲𝘀𝘂𝗹𝘁𝘀.\n"
   ]
  },
  {
   "cell_type": "code",
   "execution_count": 10,
   "id": "75c0aa68",
   "metadata": {},
   "outputs": [
    {
     "name": "stdout",
     "output_type": "stream",
     "text": [
      "The first set is {1, 2, 3, 4}\n",
      "The second set is {3, 4, 5, 6}\n",
      "The union of the two sets is {1, 2, 3, 4, 5, 6}\n",
      "The intersection of the two sets is {3, 4}\n",
      "The difference of the first set from the second set is {1, 2}\n",
      "The symmetric difference of the two sets is {1, 2, 5, 6}\n"
     ]
    }
   ],
   "source": [
    "set1 = {1, 2, 3, 4}\n",
    "set2 = {3, 4, 5, 6}\n",
    "print(f\"The first set is {set1}\")\n",
    "print(f\"The second set is {set2}\")\n",
    "set3 = set1|(set2)\n",
    "print(f\"The union of the two sets is {set3}\")\n",
    "set4 = set1 & set2\n",
    "print(f\"The intersection of the two sets is {set4}\")\n",
    "set5 = set1 - set2\n",
    "print(f\"The difference of the first set from the second set is {set5}\")\n",
    "set6 = set1 ^ set2\n",
    "print(f\"The symmetric difference of the two sets is {set6}\")"
   ]
  },
  {
   "cell_type": "markdown",
   "id": "6bc2c660",
   "metadata": {},
   "source": [
    "𝗚𝗶𝘃𝗲𝗻 𝘀𝗲𝘁𝘀: A = {1, 2, 3}, B = {1, 2}. 𝗖𝗵𝗲𝗰𝗸: 𝗜𝘀 B 𝗮 𝘀𝘂𝗯𝘀𝗲𝘁 𝗼𝗳 A? 𝗜𝘀 A 𝗮 𝘀𝘂𝗽𝗲𝗿𝘀𝗲𝘁 𝗼𝗳 B? 𝗔𝗿𝗲 𝘁𝗵𝗲𝘆 𝗱𝗶𝘀𝗷𝗼𝗶𝗻𝘁?\n"
   ]
  },
  {
   "cell_type": "code",
   "execution_count": 11,
   "id": "986f2567",
   "metadata": {},
   "outputs": [
    {
     "name": "stdout",
     "output_type": "stream",
     "text": [
      "The first set is {1, 2, 3}\n",
      "The second set is {1, 2}\n",
      "Is the second set a subset of the first set? True\n",
      "Is the first set a superset of the second set? True\n",
      "Are the two sets disjoint? False\n"
     ]
    }
   ],
   "source": [
    "A = {1, 2, 3}\n",
    "B = {1, 2}\n",
    "print(f\"The first set is {A}\")\n",
    "print(f\"The second set is {B}\")\n",
    "is_subset = B.issubset(A)\n",
    "print(f\"Is the second set a subset of the first set? {is_subset}\")\n",
    "is_superset = A.issuperset(B)\n",
    "print(f\"Is the first set a superset of the second set? {is_superset}\")\n",
    "is_disjoint = A.isdisjoint(B)\n",
    "print(f\"Are the two sets disjoint? {is_disjoint}\")"
   ]
  },
  {
   "cell_type": "markdown",
   "id": "acc74241",
   "metadata": {},
   "source": [
    "𝗖𝗿𝗲𝗮𝘁𝗲 𝗮 frozenset(['𝗮', '𝗲', '𝗶', '𝗼', '𝘂']). 𝗧𝗿𝘆 𝘁𝗼 add() 𝗼𝗿 remove() 𝗮𝗻 𝗲𝗹𝗲𝗺𝗲𝗻𝘁. 𝗖𝗮𝘁𝗰𝗵 𝘁𝗵𝗲 𝗲𝗿𝗿𝗼𝗿 𝗮𝗻𝗱 𝗲𝘅𝗽𝗹𝗮𝗶𝗻 𝗶𝗻 𝗰𝗼𝗺𝗺𝗲𝗻𝘁 𝘄𝗵𝘆 frozenset 𝗶𝘀 𝗶𝗺𝗺𝘂𝘁𝗮𝗯𝗹𝗲.\n"
   ]
  },
  {
   "cell_type": "code",
   "execution_count": null,
   "id": "60a5d7db",
   "metadata": {},
   "outputs": [
    {
     "name": "stdout",
     "output_type": "stream",
     "text": [
      "The frozenset is frozenset({'i', 'u', 'a', 'o', 'e'})\n"
     ]
    },
    {
     "ename": "AttributeError",
     "evalue": "'frozenset' object has no attribute 'add'",
     "output_type": "error",
     "traceback": [
      "\u001b[31m---------------------------------------------------------------------------\u001b[39m",
      "\u001b[31mAttributeError\u001b[39m                            Traceback (most recent call last)",
      "\u001b[36mCell\u001b[39m\u001b[36m \u001b[39m\u001b[32mIn[13]\u001b[39m\u001b[32m, line 3\u001b[39m\n\u001b[32m      1\u001b[39m C = \u001b[38;5;28mfrozenset\u001b[39m([\u001b[33m'\u001b[39m\u001b[33ma\u001b[39m\u001b[33m'\u001b[39m, \u001b[33m'\u001b[39m\u001b[33me\u001b[39m\u001b[33m'\u001b[39m, \u001b[33m'\u001b[39m\u001b[33mi\u001b[39m\u001b[33m'\u001b[39m, \u001b[33m'\u001b[39m\u001b[33mo\u001b[39m\u001b[33m'\u001b[39m, \u001b[33m'\u001b[39m\u001b[33mu\u001b[39m\u001b[33m'\u001b[39m])\n\u001b[32m      2\u001b[39m \u001b[38;5;28mprint\u001b[39m(\u001b[33mf\u001b[39m\u001b[33m\"\u001b[39m\u001b[33mThe frozenset is \u001b[39m\u001b[38;5;132;01m{\u001b[39;00mC\u001b[38;5;132;01m}\u001b[39;00m\u001b[33m\"\u001b[39m)\n\u001b[32m----> \u001b[39m\u001b[32m3\u001b[39m \u001b[43mC\u001b[49m\u001b[43m.\u001b[49m\u001b[43madd\u001b[49m(\u001b[33m'\u001b[39m\u001b[33my\u001b[39m\u001b[33m'\u001b[39m)\n\u001b[32m      4\u001b[39m \u001b[38;5;28mprint\u001b[39m(\u001b[33mf\u001b[39m\u001b[33m\"\u001b[39m\u001b[33mThe frozenset after adding \u001b[39m\u001b[33m'\u001b[39m\u001b[33my\u001b[39m\u001b[33m'\u001b[39m\u001b[33m is \u001b[39m\u001b[38;5;132;01m{\u001b[39;00mC\u001b[38;5;132;01m}\u001b[39;00m\u001b[33m\"\u001b[39m)\n\u001b[32m      5\u001b[39m c.remove(\u001b[33m'\u001b[39m\u001b[33ma\u001b[39m\u001b[33m'\u001b[39m)\n",
      "\u001b[31mAttributeError\u001b[39m: 'frozenset' object has no attribute 'add'"
     ]
    }
   ],
   "source": [
    "C = frozenset(['a', 'e', 'i', 'o', 'u'])\n",
    "print(f\"The frozenset is {C}\")\n",
    "C.add('y')\n",
    "print(f\"The frozenset after adding 'y' is {C}\")\n",
    "c.remove('a')\n",
    "print(f\"The frozenset after removing 'a' is {C}\")\n",
    "#since the set is frozenset it cannot be modified\n",
    "#a frozenset is immutable because it has a fixed hash value, which means its contents cannot change after creation.\n",
    "# This immutability is crucial for ensuring that frozensets can be used as keys in dictionaries or elements in other sets, as their hash value remains constant."
   ]
  },
  {
   "cell_type": "markdown",
   "id": "3629909f",
   "metadata": {},
   "source": [
    "𝗧𝘄𝗼 𝗳𝗿𝗼𝘇𝗲𝗻𝘀𝗲𝘁𝘀: fs1 = frozenset([1, 2, 3]), fs2 = frozenset([2, 3, 4]). 𝗔𝗽𝗽𝗹𝘆: union(), intersection(), difference(), symmetric_difference(). 𝗣𝗿𝗶𝗻𝘁 𝗲𝗮𝗰𝗵.\n"
   ]
  },
  {
   "cell_type": "code",
   "execution_count": 14,
   "id": "6cc1e2b2",
   "metadata": {},
   "outputs": [
    {
     "name": "stdout",
     "output_type": "stream",
     "text": [
      "The first frozenset is frozenset({1, 2, 3})\n",
      "The second frozenset is frozenset({2, 3, 4})\n",
      "The union of the two frozensets is frozenset({1, 2, 3, 4})\n",
      "The intersection of the two frozensets is frozenset({2, 3})\n",
      "The difference of the first frozenset from the second frozenset is frozenset({1})\n",
      "The symmetric difference of the two frozensets is frozenset({1, 4})\n"
     ]
    }
   ],
   "source": [
    "fs1 = frozenset([1, 2, 3])\n",
    "fs2 = frozenset([2, 3, 4])\n",
    "print(f\"The first frozenset is {fs1}\")\n",
    "print(f\"The second frozenset is {fs2}\")\n",
    "fs_union = fs1 | fs2\n",
    "print(f\"The union of the two frozensets is {fs_union}\")\n",
    "fs_intersection = fs1 & fs2\n",
    "print(f\"The intersection of the two frozensets is {fs_intersection}\")\n",
    "fs_difference = fs1 - fs2\n",
    "print(f\"The difference of the first frozenset from the second frozenset is {fs_difference}\")\n",
    "fs_symmetric_difference = fs1 ^ fs2\n",
    "print(f\"The symmetric difference of the two frozensets is {fs_symmetric_difference}\")"
   ]
  },
  {
   "cell_type": "markdown",
   "id": "7d1139b8",
   "metadata": {},
   "source": [
    "𝗖𝗿𝗲𝗮𝘁𝗲 𝗮 𝘀𝗲𝘁 𝗼𝗳 𝗰𝗶𝘁𝗶𝗲𝘀 {“𝗟𝗮𝗵𝗼𝗿𝗲”, “𝗞𝗮𝗿𝗮𝗰𝗵𝗶”, “𝗜𝘀𝗹𝗮𝗺𝗮𝗯𝗮𝗱”}. 𝗨𝘀𝗲 𝗮 𝗹𝗼𝗼𝗽 𝘁𝗼 𝗰𝗵𝗲𝗰𝗸 𝗺𝗲𝗺𝗯𝗲𝗿𝘀𝗵𝗶𝗽. 𝗖𝗿𝗲𝗮𝘁𝗲 𝗮 𝗻𝗲𝘄 𝘀𝗲𝘁 𝗮𝗻𝗱 𝗰𝗵𝗲𝗰𝗸 isdisjoint().\n"
   ]
  },
  {
   "cell_type": "code",
   "execution_count": 15,
   "id": "d9596762",
   "metadata": {},
   "outputs": [
    {
     "name": "stdout",
     "output_type": "stream",
     "text": [
      "The member of the set of cities are\n",
      "Lahore\n",
      "Islamabad\n",
      "Karachi\n",
      "The second set of cities is {'Quetta', 'Peshawar', 'Multan'}\n",
      "Are the two sets of cities disjoint? True\n"
     ]
    }
   ],
   "source": [
    "cities = {\"Lahore\", \"Karachi\", \"Islamabad\"}\n",
    "print(\"The member of the set of cities are\")\n",
    "for city in cities:\n",
    "    print(city)\n",
    "A = {\"Peshawar\", \"Quetta\", \"Multan\"}\n",
    "print(f\"The second set of cities is {A}\")\n",
    "B = cities.isdisjoint(A)\n",
    "print(f\"Are the two sets of cities disjoint? {B}\")"
   ]
  },
  {
   "cell_type": "markdown",
   "id": "64a623fd",
   "metadata": {},
   "source": [
    "𝗧𝗮𝗸𝗲: setA = {1, 2, 3}, setB = {3, 4, 5}. 𝗣𝗲𝗿𝗳𝗼𝗿𝗺: setA | setB, setA & setB, setA - setB, setA ^ setB. 𝗘𝘅𝗽𝗹𝗮𝗶𝗻 𝗲𝗮𝗰𝗵 𝗼𝗽𝗲𝗿𝗮𝘁𝗼𝗿 𝗶𝗻 𝗰𝗼𝗺𝗺𝗲𝗻𝘁𝘀.\n"
   ]
  },
  {
   "cell_type": "code",
   "execution_count": 16,
   "id": "981ea7ad",
   "metadata": {},
   "outputs": [
    {
     "name": "stdout",
     "output_type": "stream",
     "text": [
      "The first set is {1, 2, 3}\n",
      "The second set is {3, 4, 5}\n",
      "The union of the two sets is {1, 2, 3, 4, 5}\n",
      "The intersection of the two sets is {3}\n",
      "The difference of the first set from the second set is {1, 2}\n",
      "The symmetric difference of the two sets is {1, 2, 4, 5}\n"
     ]
    }
   ],
   "source": [
    "setA = {1, 2, 3}\n",
    "setB = {3, 4, 5}\n",
    "print(f\"The first set is {setA}\")\n",
    "print(f\"The second set is {setB}\")\n",
    "setC = setA | setB  # Union of two sets\n",
    "print(f\"The union of the two sets is {setC}\")\n",
    "setD = setA & setB  # Intersection of two sets\n",
    "print(f\"The intersection of the two sets is {setD}\")\n",
    "setE = setA - setB  # Difference of two sets\n",
    "print(f\"The difference of the first set from the second set is {setE}\")\n",
    "setF = setA ^ setB  # Symmetric difference of two sets\n",
    "print(f\"The symmetric difference of the two sets is {setF}\")"
   ]
  },
  {
   "cell_type": "markdown",
   "id": "f876752e",
   "metadata": {},
   "source": [
    "𝗔𝘀𝗸 𝘂𝘀𝗲𝗿 𝗳𝗼𝗿 𝗮 𝗹𝗶𝘀𝘁 𝗼𝗳 𝗶𝘁𝗲𝗺𝘀 𝗮𝘀 𝗶𝗻𝗽𝘂𝘁. 𝗖𝗼𝗻𝘃𝗲𝗿𝘁 𝘁𝗼 𝘀𝗲𝘁 (𝘁𝗼 𝗿𝗲𝗺𝗼𝘃𝗲 𝗱𝘂𝗽𝗹𝗶𝗰𝗮𝘁𝗲𝘀), 𝘁𝗵𝗲𝗻 𝗰𝗼𝗻𝘃𝗲𝗿𝘁 𝘁𝗼 frozenset. 𝗧𝗿𝘆 𝘁𝗼 𝗺𝗼𝗱𝗶𝗳𝘆 𝗶𝘁, 𝗰𝗮𝘁𝗰𝗵 𝗲𝗿𝗿𝗼𝗿, 𝗲𝘅𝗽𝗹𝗮𝗶𝗻 𝘄𝗵𝘆 frozenset 𝗶𝘀 𝗶𝗻𝗰𝗵𝗮𝗻𝗴𝗲𝗮𝗯𝗹𝗲.\n"
   ]
  },
  {
   "cell_type": "code",
   "execution_count": 18,
   "id": "deb66698",
   "metadata": {},
   "outputs": [
    {
     "name": "stdout",
     "output_type": "stream",
     "text": [
      "The final set is {'bat', 'ring', 'ball', 'bracelate'}\n",
      "The frozenset created from the set is frozenset({'bat', 'ring', 'ball', 'bracelate'})\n"
     ]
    },
    {
     "ename": "AttributeError",
     "evalue": "'frozenset' object has no attribute 'add'",
     "output_type": "error",
     "traceback": [
      "\u001b[31m---------------------------------------------------------------------------\u001b[39m",
      "\u001b[31mAttributeError\u001b[39m                            Traceback (most recent call last)",
      "\u001b[36mCell\u001b[39m\u001b[36m \u001b[39m\u001b[32mIn[18]\u001b[39m\u001b[32m, line 11\u001b[39m\n\u001b[32m      9\u001b[39m set1 = \u001b[38;5;28mfrozenset\u001b[39m(my_set)\n\u001b[32m     10\u001b[39m \u001b[38;5;28mprint\u001b[39m(\u001b[33mf\u001b[39m\u001b[33m\"\u001b[39m\u001b[33mThe frozenset created from the set is \u001b[39m\u001b[38;5;132;01m{\u001b[39;00mset1\u001b[38;5;132;01m}\u001b[39;00m\u001b[33m\"\u001b[39m)\n\u001b[32m---> \u001b[39m\u001b[32m11\u001b[39m \u001b[43mset1\u001b[49m\u001b[43m.\u001b[49m\u001b[43madd\u001b[49m(\u001b[33m'\u001b[39m\u001b[33mnew_item\u001b[39m\u001b[33m'\u001b[39m)  \u001b[38;5;66;03m# This will raise an error since frozensets are immutable\u001b[39;00m\n\u001b[32m     12\u001b[39m \u001b[38;5;28mprint\u001b[39m(\u001b[33mf\u001b[39m\u001b[33m\"\u001b[39m\u001b[33mThe frozenset after adding \u001b[39m\u001b[33m'\u001b[39m\u001b[33mnew_item\u001b[39m\u001b[33m'\u001b[39m\u001b[33m is \u001b[39m\u001b[38;5;132;01m{\u001b[39;00mset1\u001b[38;5;132;01m}\u001b[39;00m\u001b[33m\"\u001b[39m)\n",
      "\u001b[31mAttributeError\u001b[39m: 'frozenset' object has no attribute 'add'"
     ]
    }
   ],
   "source": [
    "items = []\n",
    "while True:\n",
    "    item = input(\"Enter an item to add to the set (or 'done' to finish): \")\n",
    "    if item.lower() == \"done\":\n",
    "        break\n",
    "    items.append(item)\n",
    "my_set = set(items)\n",
    "print(f\"The final set is {my_set}\")\n",
    "set1 = frozenset(my_set)\n",
    "print(f\"The frozenset created from the set is {set1}\")\n",
    "set1.add('new_item')  # This will raise an error since frozensets are immutable\n",
    "print(f\"The frozenset after adding 'new_item' is {set1}\")\n"
   ]
  }
 ],
 "metadata": {
  "kernelspec": {
   "display_name": "Python 3",
   "language": "python",
   "name": "python3"
  },
  "language_info": {
   "codemirror_mode": {
    "name": "ipython",
    "version": 3
   },
   "file_extension": ".py",
   "mimetype": "text/x-python",
   "name": "python",
   "nbconvert_exporter": "python",
   "pygments_lexer": "ipython3",
   "version": "3.13.5"
  }
 },
 "nbformat": 4,
 "nbformat_minor": 5
}

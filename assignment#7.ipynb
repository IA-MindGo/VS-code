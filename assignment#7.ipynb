{
 "cells": [
  {
   "cell_type": "code",
   "execution_count": 1,
   "id": "037d9313",
   "metadata": {},
   "outputs": [
    {
     "name": "stdout",
     "output_type": "stream",
     "text": [
      "Numbers of characters in full name Isma Amjad are 10\n"
     ]
    }
   ],
   "source": [
    "#𝗧𝗮𝗸𝗲 𝘂𝘀𝗲𝗿 𝗶𝗻𝗽𝘂𝘁 𝗳𝗼𝗿 𝘁𝗵𝗲𝗶𝗿 𝗳𝘂𝗹𝗹 𝗻𝗮𝗺𝗲. 𝗣𝗿𝗶𝗻𝘁 𝗵𝗼𝘄 𝗺𝗮𝗻𝘆 𝗰𝗵𝗮𝗿𝗮𝗰𝘁𝗲𝗿𝘀 𝗮𝗿𝗲 𝗶𝗻 𝘁𝗵𝗲 𝗻𝗮𝗺𝗲 𝘂𝘀𝗶𝗻𝗴 len().\n",
    "\n",
    "full_name = \"Isma Amjad\"\n",
    "print(f\"Numbers of characters in full name {full_name} are {len(full_name)}\")"
   ]
  },
  {
   "cell_type": "code",
   "execution_count": 2,
   "id": "e2bbbfdb",
   "metadata": {},
   "outputs": [
    {
     "name": "stdout",
     "output_type": "stream",
     "text": [
      "Names that have more than 5 characters:\t\n",
      "rashid\n",
      "fatimah\n"
     ]
    }
   ],
   "source": [
    "#𝗖𝗿𝗲𝗮𝘁𝗲 𝗮 𝗹𝗶𝘀𝘁 𝗼𝗳 𝟱 𝗻𝗮𝗺𝗲𝘀. 𝗣𝗿𝗶𝗻𝘁 𝗼𝗻𝗹𝘆 𝘁𝗵𝗲 𝗻𝗮𝗺𝗲𝘀 𝘁𝗵𝗮𝘁 𝗵𝗮𝘃𝗲 𝗺𝗼𝗿𝗲 𝘁𝗵𝗮𝗻 𝟱 𝗰𝗵𝗮𝗿𝗮𝗰𝘁𝗲𝗿𝘀.\n",
    "names=[\"rashid\",\"ali\",\"shan\",\"talha\",\"fatimah\"]\n",
    "print(\"Names that have more than 5 characters:\\t\")\n",
    "for name in names:\n",
    "    if(len(name)>5):\n",
    "        print(name)\n"
   ]
  },
  {
   "cell_type": "code",
   "execution_count": 32,
   "id": "05526cd6",
   "metadata": {},
   "outputs": [
    {
     "name": "stdout",
     "output_type": "stream",
     "text": [
      "Original sentence: \n",
      " WELCOME TO PYTHON PROGRAMMING CLASS.\n",
      "\n",
      "Lowercase sentence: \n",
      " welcome to python programming class.\n",
      "\n",
      "The word 'python' is present in the sentence.\n"
     ]
    }
   ],
   "source": [
    "#𝗔𝘀𝗸 𝘁𝗵𝗲 𝘂𝘀𝗲𝗿 𝘁𝗼 𝗲𝗻𝘁𝗲𝗿 𝗮 𝘀𝗲𝗻𝘁𝗲𝗻𝗰𝗲. 𝗖𝗼𝗻𝘃𝗲𝗿𝘁 𝗶𝘁 𝘁𝗼 𝗹𝗼𝘄𝗲𝗿𝗰𝗮𝘀𝗲 𝗮𝗻𝗱 𝗰𝗵𝗲𝗰𝗸 𝗶𝗳 𝘁𝗵𝗲 𝘄𝗼𝗿𝗱 \"python\" 𝗶𝘀 𝗽𝗿𝗲𝘀𝗲𝗻𝘁.\n",
    "sentence = input(\"Enter a sentence: \")\n",
    "print(f\"Original sentence: \\n {sentence}\\n\")\n",
    "lowercase_sentence = sentence.lower()\n",
    "print(f\"Lowercase sentence: \\n {lowercase_sentence}\\n\")\n",
    "if \"python\" in lowercase_sentence:\n",
    "    print(\"The word 'python' is present in the sentence.\")\n",
    "else:\n",
    "    print(\"The word 'python' is not present in the sentence.\")"
   ]
  },
  {
   "cell_type": "code",
   "execution_count": 29,
   "id": "c8fc3103",
   "metadata": {},
   "outputs": [
    {
     "name": "stdout",
     "output_type": "stream",
     "text": [
      "Numbers that are divisible by 3:\n",
      "3\n",
      "6\n",
      "9\n"
     ]
    }
   ],
   "source": [
    "#𝗖𝗿𝗲𝗮𝘁𝗲 𝗮 𝗹𝗶𝘀𝘁 𝗼𝗳 𝗻𝘂𝗺𝗯𝗲𝗿𝘀. 𝗣𝗿𝗶𝗻𝘁 𝗼𝗻𝗹𝘆 𝘁𝗵𝗲 𝗻𝘂𝗺𝗯𝗲𝗿𝘀 𝘁𝗵𝗮𝘁 𝗮𝗿𝗲 𝗱𝗶𝘃𝗶𝘀𝗶𝗯𝗹𝗲 𝗯𝘆 𝟯.\n",
    "numbers = [1, 2, 3, 4, 5, 6, 7, 8, 9, 10]\n",
    "print(\"Numbers that are divisible by 3:\")\n",
    "for number in numbers:\n",
    "    if number % 3 == 0:\n",
    "        print(number)"
   ]
  },
  {
   "cell_type": "code",
   "execution_count": null,
   "id": "b34b3a61",
   "metadata": {},
   "outputs": [
    {
     "name": "stdout",
     "output_type": "stream",
     "text": [
      "The number 78.0 is positive.\n"
     ]
    }
   ],
   "source": [
    "#𝗧𝗮𝗸𝗲 𝗮𝗻 𝗶𝗻𝗽𝘂𝘁 𝗻𝘂𝗺𝗯𝗲𝗿. 𝗨𝘀𝗲 if-elif-else 𝘁𝗼 𝗰𝗵𝗲𝗰𝗸 𝘄𝗵𝗲𝘁𝗵𝗲𝗿 𝗶𝘁'𝘀 𝗽𝗼𝘀𝗶𝘁𝗶𝘃𝗲, 𝗻𝗲𝗴𝗮𝘁𝗶𝘃𝗲, 𝗼𝗿 𝘇𝗲𝗿𝗼.\n",
    "num = input(\"Enter a number: \")\n",
    "number = float(num)\n",
    "if number > 0:\n",
    "    print(f\"The number {number} is positive.\")   \n",
    "elif number < 0:\n",
    "    print(f\"The number {number} is negative.\")\n",
    "else:\n",
    "    print(f\"The number {number} is zero.\")"
   ]
  },
  {
   "cell_type": "code",
   "execution_count": 22,
   "id": "74a22540",
   "metadata": {},
   "outputs": [
    {
     "name": "stdout",
     "output_type": "stream",
     "text": [
      "First number is: 67.5\n",
      "Second number is: 67.7\n",
      "The greater number is: 67.7\n"
     ]
    }
   ],
   "source": [
    "#𝗧𝗮𝗸𝗲 𝘁𝘄𝗼 𝗶𝗻𝗽𝘂𝘁 𝗻𝘂𝗺𝗯𝗲𝗿𝘀 𝗮𝗻𝗱 𝗽𝗿𝗶𝗻𝘁 𝘁𝗵𝗲𝗶𝗿 𝗚𝗥𝗘𝗔𝗧𝗘𝗥 𝗼𝗻𝗲 𝘂𝘀𝗶𝗻𝗴 if-else.\n",
    "\n",
    "num1:float = input(\"Enter the first number: \")\n",
    "num2:float = input(\"Enter the second number: \")\n",
    "print(f\"First number is: {num1}\")\n",
    "print(f\"Second number is: {num2}\")\n",
    "if num1 > num2:\n",
    "    print(f\"The greater number is: {num1}\")\n",
    "elif num2 > num1:\n",
    "    print(f\"The greater number is: {num2}\")\n",
    "else:  \n",
    "    print(\"Both numbers are equal.\")"
   ]
  },
  {
   "cell_type": "code",
   "execution_count": 20,
   "id": "3eb3a9eb",
   "metadata": {},
   "outputs": [
    {
     "name": "stdout",
     "output_type": "stream",
     "text": [
      "Updated list of cities:\n",
      "Karachi\n",
      "Lahore\n",
      "Islamabad\n",
      "Quetta\n",
      "Peshawar\n",
      "gujrat\n"
     ]
    }
   ],
   "source": [
    "#𝗖𝗿𝗲𝗮𝘁𝗲 𝗮 𝗹𝗶𝘀𝘁 𝗼𝗳 𝗰𝗶𝘁𝗶𝗲𝘀. 𝗔𝗱𝗱 𝗮 𝗻𝗲𝘄 𝗰𝗶𝘁𝘆 𝗮𝘀 𝗶𝗻𝗽𝘂𝘁 𝗳𝗿𝗼𝗺 𝘁𝗵𝗲 𝘂𝘀𝗲𝗿 𝗮𝗻𝗱 𝗽𝗿𝗶𝗻𝘁 𝘁𝗵𝗲 𝘂𝗽𝗱𝗮𝘁𝗲𝗱 𝗹𝗶𝘀𝘁.\n",
    "\n",
    "cities=[\"Karachi\",\"Lahore\",\"Islamabad\",\"Quetta\",\"Peshawar\"]\n",
    "new_city = input(\"Enter a new city to add to the list: \")\n",
    "cities.append(new_city)\n",
    "print(\"Updated list of cities:\")\n",
    "for city in cities:\n",
    "    print(city)"
   ]
  },
  {
   "cell_type": "code",
   "execution_count": 19,
   "id": "a5445b7c",
   "metadata": {},
   "outputs": [
    {
     "name": "stdout",
     "output_type": "stream",
     "text": [
      "Words in reverse order:\n",
      "elppa\n",
      "ananab\n",
      "yrrehc\n",
      "etad\n",
      "yrrebredle\n"
     ]
    }
   ],
   "source": [
    "#𝗖𝗿𝗲𝗮𝘁𝗲 𝗮 𝗹𝗶𝘀𝘁 𝗼𝗳 𝟱 𝘄𝗼𝗿𝗱𝘀. 𝗣𝗿𝗶𝗻𝘁 𝗲𝗮𝗰𝗵 𝘄𝗼𝗿𝗱 𝗼𝗻 𝗮 𝗻𝗲𝘄 𝗹𝗶𝗻𝗲 𝗶𝗻 𝗿𝗲𝘃𝗲𝗿𝘀𝗲 𝗼𝗿𝗱𝗲𝗿.\n",
    "words = [\"apple\", \"banana\", \"cherry\", \"date\", \"elderberry\"]\n",
    "print(\"Words in reverse order:\")\n",
    "for word in (words):\n",
    "    print(f\"{\"\".join(reversed(word))}\")"
   ]
  },
  {
   "cell_type": "code",
   "execution_count": 11,
   "id": "46402b52",
   "metadata": {},
   "outputs": [
    {
     "name": "stdout",
     "output_type": "stream",
     "text": [
      "Total: 908980, Average: 302993.3333333333, Grade: A\n"
     ]
    }
   ],
   "source": [
    "#𝗧𝗮𝗸𝗲 𝘂𝘀𝗲𝗿 𝗶𝗻𝗽𝘂𝘁 𝗼𝗳 𝘁𝗵𝗿𝗲𝗲 𝗺𝗮𝗿𝗸𝘀. 𝗖𝗮𝗹𝗰𝘂𝗹𝗮𝘁𝗲 𝘁𝗼𝘁𝗮𝗹, 𝗮𝘃𝗲𝗿𝗮𝗴𝗲, 𝗮𝗻𝗱 𝗴𝗿𝗮𝗱𝗲 (𝗔/𝗕/𝗖/𝗙𝗮𝗶𝗹).\n",
    "marks1:float = input(\"Enter the first mark: \")\n",
    "marks2:float = input(\"Enter the second mark: \")   \n",
    "marks3:float = input(\"Enter the third mark: \")\n",
    "total = marks1 + marks2 + marks3\n",
    "average = (int(total)/3)\n",
    "if average >= 90:\n",
    "    grade = \"A\"\n",
    "elif average >= 80:\n",
    "    grade = \"B\"\n",
    "elif average >= 70:\n",
    "    grade = \"C\"\n",
    "elif average >= 60:\n",
    "    grade = \"D\"\n",
    "else:\n",
    "    grade = \"Fail\"\n",
    "print(f\"Total: {total}, Average: {average}, Grade: {grade}\")"
   ]
  },
  {
   "cell_type": "code",
   "execution_count": 3,
   "id": "aa156aa4",
   "metadata": {},
   "outputs": [
    {
     "name": "stdout",
     "output_type": "stream",
     "text": [
      "Found\n"
     ]
    }
   ],
   "source": [
    "#𝗖𝗿𝗲𝗮𝘁𝗲 𝗮 𝗹𝗶𝘀𝘁 𝗼𝗳 𝗳𝗿𝘂𝗶𝘁𝘀. 𝗖𝗵𝗲𝗰𝗸 𝗶𝗳 \"apple\" 𝗶𝘀 𝗶𝗻 𝘁𝗵𝗲 𝗹𝗶𝘀𝘁. 𝗣𝗿𝗶𝗻𝘁 \"𝗙𝗼𝘂𝗻𝗱\" 𝗼𝗿 \"𝗡𝗼𝘁 𝗙𝗼𝘂𝗻𝗱\"\n",
    "fruits = [\"banana\", \"orange\", \"apple\", \"grape\", \"kiwi\"]\n",
    "if \"apple\" in fruits:\n",
    "    print(\"Found\")\n",
    "else:\n",
    "    print(\"Not Found\")"
   ]
  }
 ],
 "metadata": {
  "kernelspec": {
   "display_name": "Python 3",
   "language": "python",
   "name": "python3"
  },
  "language_info": {
   "codemirror_mode": {
    "name": "ipython",
    "version": 3
   },
   "file_extension": ".py",
   "mimetype": "text/x-python",
   "name": "python",
   "nbconvert_exporter": "python",
   "pygments_lexer": "ipython3",
   "version": "3.13.5"
  }
 },
 "nbformat": 4,
 "nbformat_minor": 5
}

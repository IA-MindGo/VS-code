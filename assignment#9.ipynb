{
 "cells": [
  {
   "cell_type": "code",
   "execution_count": null,
   "id": "172becfa",
   "metadata": {},
   "outputs": [],
   "source": [
    "#𝗧𝗮𝗸𝗲 𝘂𝘀𝗲𝗿 𝗶𝗻𝗽𝘂𝘁 𝗳𝗼𝗿 𝗺𝗮𝗿𝗸𝘀 (𝗮𝘀 𝘀𝘁𝗿𝗶𝗻𝗴), 𝗰𝗼𝗻𝘃𝗲𝗿𝘁 𝘁𝗼 int, 𝗮𝗻𝗱 𝗽𝗿𝗶𝗻𝘁 \"𝗣𝗮𝘀𝘀\" 𝗶𝗳 𝗺𝗮𝗿𝗸𝘀 ≥ 𝟰𝟬, 𝗲𝗹𝘀𝗲 \"𝗙𝗮𝗶𝗹\".\n",
    "marks = input(\"Enter your marks: \")\n",
    "marks = int(marks)\n",
    "if marks >= 40:\n",
    "    print(\"Pass\")\n",
    "else:\n",
    "    print(\"Fail\")"
   ]
  },
  {
   "cell_type": "code",
   "execution_count": null,
   "id": "7ebd6a57",
   "metadata": {},
   "outputs": [],
   "source": [
    "#𝗖𝗿𝗲𝗮𝘁𝗲 𝗮 𝗹𝗶𝘀𝘁 𝗼𝗳 𝗮𝗴𝗲𝘀 (𝗮𝘀 𝘀𝘁𝗿𝗶𝗻𝗴𝘀), 𝗰𝗼𝗻𝘃𝗲𝗿𝘁 𝘁𝗼 int, 𝗮𝗻𝗱 𝗽𝗿𝗶𝗻𝘁 𝗼𝗻𝗹𝘆 𝗮𝗴𝗲𝘀 𝘁𝗵𝗮𝘁 𝗮𝗿𝗲 𝟭𝟴+ 𝗶𝗻 𝗮 𝗹𝗼𝗼𝗽.\n",
    "ages = [\"15\", \"22\", \"17\", \"19\", \"30\"]\n",
    "for age in ages:\n",
    "    age = int(age)\n",
    "    if age >= 18:\n",
    "        print(f\"Age {age} is 18+ .\")\n",
    "    else:\n",
    "        print(f\"Age {age} is under 18.\")"
   ]
  },
  {
   "cell_type": "code",
   "execution_count": null,
   "id": "5d48bbac",
   "metadata": {},
   "outputs": [],
   "source": [
    "#𝗔𝘀𝗸 𝘁𝗵𝗲 𝘂𝘀𝗲𝗿 𝘁𝗼 𝗲𝗻𝘁𝗲𝗿 𝗮 𝗻𝘂𝗺𝗯𝗲𝗿. 𝗖𝗵𝗲𝗰𝗸 𝗶𝗳 𝗶𝘁'𝘀 𝗱𝗶𝘃𝗶𝘀𝗶𝗯𝗹𝗲 𝗯𝘆 𝟱 𝗼𝗿 𝟳, 𝗼𝗿 𝗯𝗼𝘁𝗵, 𝗮𝗻𝗱 𝗽𝗿𝗶𝗻𝘁 𝗮 𝗺𝗲𝘀𝘀𝗮𝗴𝗲.\n",
    "number = int(input(\"Enter a number: \"))\n",
    "if number % 5 == 0 and number % 7 == 0:\n",
    "    print(f\"The number {number} is divisible by both 5 and 7.\")\n",
    "elif number % 5 == 0:\n",
    "    print(f\"The number {number} is divisible by 5.\")    \n",
    "elif number % 7 == 0:\n",
    "    print(f\"The number {number} is divisible by 7.\")\n",
    "else:\n",
    "    print(f\"The number {number} is not divisible by 5 or 7.\")"
   ]
  },
  {
   "cell_type": "code",
   "execution_count": null,
   "id": "5e251f67",
   "metadata": {},
   "outputs": [],
   "source": [
    "#𝗖𝗿𝗲𝗮𝘁𝗲 𝗮 𝗹𝗶𝘀𝘁 [\"3\", \"6\", \"9\", \"12\"], 𝗰𝗮𝘀𝘁 𝘁𝗼 int, 𝗽𝗿𝗶𝗻𝘁 𝗼𝗻𝗹𝘆 𝗲𝗹𝗲𝗺𝗲𝗻𝘁𝘀 𝗱𝗶𝘃𝗶𝘀𝗶𝗯𝗹𝗲 𝗯𝘆 𝟲.\n",
    "numbers = [\"3\", \"6\", \"9\", \"12\"]\n",
    "multiple_of_six = [int(num) for num in numbers if int(num) % 6 == 0]\n",
    "print(f\"Numbers divisible by 6: {multiple_of_six}\")"
   ]
  },
  {
   "cell_type": "code",
   "execution_count": null,
   "id": "d1fdbced",
   "metadata": {},
   "outputs": [],
   "source": [
    "# 𝗧𝗮𝗸𝗲 𝗻𝗮𝗺𝗲 𝗮𝗻𝗱 𝗮𝗴𝗲 𝗮𝘀 𝗶𝗻𝗽𝘂𝘁. 𝗖𝗼𝗻𝘃𝗲𝗿𝘁 𝗮𝗴𝗲 𝘁𝗼 int, 𝗮𝗻𝗱 𝗽𝗿𝗶𝗻𝘁 𝗮 𝗰𝘂𝘀𝘁𝗼𝗺 𝗴𝗿𝗲𝗲𝘁𝗶𝗻𝗴 𝗳𝗼𝗿 𝗮𝗱𝘂𝗹𝘁𝘀 𝗼𝗿 𝗸𝗶𝗱𝘀.\n",
    "name = input(\"Enter your name: \")\n",
    "age = int(input(\"Enter your age: \"))\n",
    "if age >= 18:\n",
    "    print(f\"Hello {name}, you are an adult.\")\n",
    "else:\n",
    "    print(f\"Hello {name}, you are a kid.\")"
   ]
  },
  {
   "cell_type": "code",
   "execution_count": null,
   "id": "6d023cb8",
   "metadata": {},
   "outputs": [],
   "source": [
    "#𝗗𝗲𝗳𝗶𝗻𝗲 𝗮 𝗹𝗶𝘀𝘁 𝗼𝗳 𝟱 𝗻𝘂𝗺𝗯𝗲𝗿𝘀. 𝗣𝗿𝗶𝗻𝘁 𝘁𝗵𝗲 𝗵𝗶𝗴𝗵𝗲𝘀𝘁 𝗮𝗻𝗱 𝗹𝗼𝘄𝗲𝘀𝘁 𝘂𝘀𝗶𝗻𝗴 max() 𝗮𝗻𝗱 min().\n",
    "numbers = [10, 20, 5, 15, 30]\n",
    "highest = max(numbers)\n",
    "lowest = min(numbers)\n",
    "print(f\"The highest number is: {highest}\")\n",
    "print(f\"The lowest number is: {lowest}\")"
   ]
  },
  {
   "cell_type": "code",
   "execution_count": null,
   "id": "30e97486",
   "metadata": {},
   "outputs": [],
   "source": [
    "#𝗧𝗮𝗸𝗲 𝗶𝗻𝗽𝘂𝘁 𝗼𝗳 𝗮 𝘀𝘁𝗿𝗶𝗻𝗴 𝗰𝗼𝗻𝘁𝗮𝗶𝗻𝗶𝗻𝗴 𝗻𝘂𝗺𝗯𝗲𝗿𝘀 𝗹𝗶𝗸𝗲 \"𝟭𝟬𝟬𝟮𝟬𝟬𝟯𝟬𝟬\". 𝗘𝘅𝘁𝗿𝗮𝗰𝘁 𝗮𝗻𝗱 𝘀𝘂𝗺 𝗮𝗹𝗹 𝗱𝗶𝗴𝗶𝘁𝘀.\n",
    "number_string = input(\"Enter a string containing numbers: \")\n",
    "digit_sum = sum(int(digit) for digit in number_string if digit.isdigit())\n",
    "print(f\"The sum of all digits in the string is: {digit_sum}\")"
   ]
  },
  {
   "cell_type": "code",
   "execution_count": null,
   "id": "1f31b3ac",
   "metadata": {},
   "outputs": [],
   "source": [
    "#𝗔𝘀𝗸 𝘁𝗵𝗲 𝘂𝘀𝗲𝗿 𝘁𝗼 𝗲𝗻𝘁𝗲𝗿 𝗮 𝗽𝗮𝘀𝘀𝘄𝗼𝗿𝗱. 𝗖𝗵𝗲𝗰𝗸 𝗶𝗳 𝗶𝘁 𝗰𝗼𝗻𝘁𝗮𝗶𝗻𝘀 𝗮𝘁 𝗹𝗲𝗮𝘀𝘁 𝟴 𝗰𝗵𝗮𝗿𝗮𝗰𝘁𝗲𝗿𝘀 𝗮𝗻𝗱 𝗽𝗿𝗶𝗻𝘁 𝘃𝗮𝗹𝗶𝗱𝗶𝘁𝘆.\n",
    "\n",
    "password = input(\"Enter a password: \")\n",
    "if len(password) >= 8:\n",
    "    print(\"The password is valid.\")\n",
    "else:\n",
    "    print(\"The password is invalid. It must be at least 8 characters long.\") "
   ]
  },
  {
   "cell_type": "code",
   "execution_count": null,
   "id": "21b72cad",
   "metadata": {},
   "outputs": [],
   "source": [
    "#𝗖𝗿𝗲𝗮𝘁𝗲 𝗮 𝗹𝗶𝘀𝘁 𝗼𝗳 𝗺𝗶𝘅𝗲𝗱 𝘁𝘆𝗽𝗲𝘀. 𝗟𝗼𝗼𝗽 𝗮𝗻𝗱 𝗰𝗼𝘂𝗻𝘁 𝗵𝗼𝘄 𝗺𝗮𝗻𝘆 𝗮𝗿𝗲 𝗶𝗻𝘁𝗲𝗴𝗲𝗿𝘀.\n",
    "mixed_list = [1, \"hello\", 3.14, 42, \"world\", 7]\n",
    "integer_count = sum(1 for item in mixed_list if isinstance(item, int))\n",
    "print(f\"There are {integer_count} integers in the mixed list.\")"
   ]
  },
  {
   "cell_type": "code",
   "execution_count": null,
   "id": "2107de2b",
   "metadata": {},
   "outputs": [],
   "source": [
    "#𝗨𝘀𝗲 import keyword 𝗮𝗻𝗱 𝗽𝗿𝗶𝗻𝘁 𝘁𝗵𝗲 𝘁𝗼𝘁𝗮𝗹 𝗻𝘂𝗺𝗯𝗲𝗿 𝗼𝗳 𝗣𝘆𝘁𝗵𝗼𝗻 𝗸𝗲𝘆𝘄𝗼𝗿𝗱𝘀 𝘂𝘀𝗶𝗻𝗴 len(keyword.kwlist).\n",
    "import keyword\n",
    "print(f\"Total number of Python keywords: {len(keyword.kwlist)}\")    "
   ]
  }
 ],
 "metadata": {
  "language_info": {
   "name": "python"
  }
 },
 "nbformat": 4,
 "nbformat_minor": 5
}

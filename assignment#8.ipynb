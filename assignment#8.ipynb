{
 "cells": [
  {
   "cell_type": "code",
   "execution_count": null,
   "id": "1908c463",
   "metadata": {},
   "outputs": [],
   "source": [
    "#𝗖𝗿𝗲𝗮𝘁𝗲 𝗮 𝗹𝗶𝘀𝘁 𝗼𝗳 𝟯 𝗳𝗹𝗼𝗮𝘁 𝗻𝘂𝗺𝗯𝗲𝗿𝘀 𝗮𝘀 𝘀𝘁𝗿𝗶𝗻𝗴𝘀 (𝗲.𝗴. [\"𝟭.𝟱\", \"𝟮.𝟴\", \"𝟯.𝟬\"]). 𝗖𝗼𝗻𝘃𝗲𝗿𝘁 𝗲𝗮𝗰𝗵 𝘁𝗼 float 𝗮𝗻𝗱 𝗽𝗿𝗶𝗻𝘁 𝘁𝗵𝗲 𝘀𝘂𝗺.\n",
    "float_numbers = [\"1.5\", \"2.8\", \"3.0\"]\n",
    "float_sum = sum(float(num) for num in float_numbers)\n",
    "print(f\"The sum of the float numbers {float_numbers} is {float_sum}\")"
   ]
  },
  {
   "cell_type": "code",
   "execution_count": null,
   "id": "554bc230",
   "metadata": {},
   "outputs": [],
   "source": [
    "#𝗧𝗮𝗸𝗲 𝘂𝘀𝗲𝗿 𝗶𝗻𝗽𝘂𝘁 𝗳𝗼𝗿 𝗮 𝗻𝘂𝗺𝗯𝗲𝗿. 𝗖𝗵𝗲𝗰𝗸 𝘄𝗵𝗲𝘁𝗵𝗲𝗿 𝗶𝘁 𝗶𝘀 𝗽𝗼𝘀𝗶𝘁𝗶𝘃𝗲, 𝗻𝗲𝗴𝗮𝘁𝗶𝘃𝗲, 𝗼𝗿 𝘇𝗲𝗿𝗼 𝘂𝘀𝗶𝗻𝗴 if-elif-else.\n",
    "number = float(input(\"Enter a number: \"))\n",
    "if number > 0:\n",
    "    print(\"The number is positive.\")\n",
    "elif number < 0:\n",
    "    print(\"The number is negative.\")\n",
    "else:\n",
    "    print(\"The number is zero.\")"
   ]
  },
  {
   "cell_type": "code",
   "execution_count": null,
   "id": "5060c9b7",
   "metadata": {},
   "outputs": [],
   "source": [
    "# 𝗧𝗮𝗸𝗲 𝘁𝘄𝗼 𝘀𝘁𝗿𝗶𝗻𝗴 𝗻𝘂𝗺𝗯𝗲𝗿𝘀 𝗮𝘀 𝗶𝗻𝗽𝘂𝘁 𝗳𝗿𝗼𝗺 𝘁𝗵𝗲 𝘂𝘀𝗲𝗿. 𝗖𝗼𝗻𝘃𝗲𝗿𝘁 𝘁𝗼 int, 𝗮𝗱𝗱 𝘁𝗵𝗲𝗺, 𝗮𝗻𝗱 𝗽𝗿𝗶𝗻𝘁 𝘁𝗵𝗲 𝗿𝗲𝘀𝘂𝗹𝘁 𝘄𝗶𝘁𝗵 𝘁𝘆𝗽𝗲.\n",
    "num1 = str(input(\"Enter the first number: \"))\n",
    "num2 = str(input(\"Enter the second number: \"))\n",
    "num1 = int(num1)\n",
    "num2 = int(num2) \n",
    "result = num1 + num2   \n",
    "print(f\"The sum of {num1} and {num2} is {result} and its type is {type(result)}\" )  \n"
   ]
  },
  {
   "cell_type": "code",
   "execution_count": null,
   "id": "d7da273c",
   "metadata": {},
   "outputs": [],
   "source": [
    "# 𝗗𝗲𝗳𝗶𝗻𝗲 𝗮 𝗹𝗶𝘀𝘁 𝗼𝗳 𝗺𝗶𝘅𝗲𝗱 𝘁𝘆𝗽𝗲𝘀 (𝗲.𝗴. [\"𝟱\", 𝟴, 𝟭𝟬.𝟱, 𝗧𝗿𝘂𝗲]). 𝗨𝘀𝗲 𝗮 𝗹𝗼𝗼𝗽 𝘁𝗼 𝗰𝗼𝗻𝘃𝗲𝗿𝘁 𝘀𝘁𝗿𝗶𝗻𝗴𝘀 𝗶𝗻𝘁𝗼 𝗶𝗻𝘁𝗲𝗴𝗲𝗿𝘀.\n",
    "mixed_types = [\"5\", 8, 10.5, True]\n",
    "for i in range(len(mixed_types)):\n",
    "    if isinstance(mixed_types[i], str):\n",
    "        mixed_types[i] = int(mixed_types[i])\n",
    "print(f\"Converted list: {mixed_types}\")"
   ]
  },
  {
   "cell_type": "code",
   "execution_count": null,
   "id": "e00759c2",
   "metadata": {},
   "outputs": [],
   "source": [
    "#𝗧𝗮𝗸𝗲 𝘂𝘀𝗲𝗿 𝗶𝗻𝗽𝘂𝘁 𝗳𝗼𝗿 𝟯 𝗺𝗮𝗿𝗸𝘀 (𝗮𝘀 𝘀𝘁𝗿𝗶𝗻𝗴𝘀), 𝗰𝗼𝗻𝘃𝗲𝗿𝘁 𝘁𝗼 int, 𝗮𝗻𝗱 𝗽𝗿𝗶𝗻𝘁 𝘁𝗵𝗲 𝘁𝗼𝘁𝗮𝗹 𝗮𝗻𝗱 𝗽𝗲𝗿𝗰𝗲𝗻𝘁𝗮𝗴𝗲.\n",
    "marks = []\n",
    "for i in range(3):\n",
    "    mark = str(input(f\"Enter mark {i+1}: \"))\n",
    "    marks.append(int(mark))\n",
    "total_marks = sum(marks)\n",
    "percentage = (total_marks / (3 * 100)) * 100\n",
    "print(f\"Total Marks: {total_marks}, Percentage: {percentage:.2f}%\")"
   ]
  },
  {
   "cell_type": "code",
   "execution_count": null,
   "id": "29a9e100",
   "metadata": {},
   "outputs": [],
   "source": [
    "#𝗖𝗿𝗲𝗮𝘁𝗲 𝗮 𝘀𝘁𝗿𝗶𝗻𝗴 𝘃𝗮𝗿𝗶𝗮𝗯𝗹𝗲 𝗼𝗳 𝗮 𝗳𝗹𝗼𝗮𝘁 𝘃𝗮𝗹𝘂𝗲 (𝗲.𝗴. \"𝟰.𝟮\"). 𝗖𝗼𝗻𝘃𝗲𝗿𝘁 𝘁𝗼 float, 𝗺𝘂𝗹𝘁𝗶𝗽𝗹𝘆 𝗯𝘆 𝟮, 𝗮𝗻𝗱 𝗰𝗵𝗲𝗰𝗸 𝗶𝗳 𝗿𝗲𝘀𝘂𝗹𝘁 > 𝟱.\n",
    "float_value = \"4.2\"\n",
    "float_value = float(float_value)\n",
    "result = float_value * 2\n",
    "if result > 5:\n",
    "    print(f\"The result {result} is greater than 5.\")\n",
    "else:\n",
    "    print(f\"The result {result} is not greater than 5.\")"
   ]
  },
  {
   "cell_type": "code",
   "execution_count": null,
   "id": "e5cb3e00",
   "metadata": {},
   "outputs": [],
   "source": [
    "#𝗖𝗿𝗲𝗮𝘁𝗲 𝗮 𝗹𝗶𝘀𝘁 𝗼𝗳 𝟰 𝗺𝗮𝗿𝗸𝘀 (𝗮𝘀 𝘀𝘁𝗿𝗶𝗻𝗴𝘀). 𝗨𝘀𝗲 for 𝗹𝗼𝗼𝗽 𝘁𝗼 𝗰𝗼𝗻𝘃𝗲𝗿𝘁 𝗮𝗻𝗱 𝗰𝗵𝗲𝗰𝗸 𝗳𝗼𝗿 𝗽𝗮𝘀𝘀 𝗼𝗿 𝗳𝗮𝗶𝗹 (𝗺𝗮𝗿𝗸 >= 𝟱𝟬).\n",
    "marks = [\"45\", \"60\", \"75\", \"30\"]\n",
    "for mark in marks:\n",
    "    mark = int(mark)\n",
    "    if mark >= 50:\n",
    "        print(f\"Mark {mark} is a pass.\")\n",
    "    else:\n",
    "        print(f\"Mark {mark} is a fail.\")"
   ]
  },
  {
   "cell_type": "code",
   "execution_count": null,
   "id": "b3968f25",
   "metadata": {},
   "outputs": [],
   "source": [
    "#𝗧𝗮𝗸𝗲 𝘂𝘀𝗲𝗿 𝗶𝗻𝗽𝘂𝘁 𝗼𝗳 𝗲𝗺𝗮𝗶𝗹 𝗮𝗻𝗱 𝗰𝗵𝗲𝗰𝗸 𝗶𝗳 𝗶𝘁 𝗰𝗼𝗻𝘁𝗮𝗶𝗻𝘀 \"@\" 𝘂𝘀𝗶𝗻𝗴 in. 𝗣𝗿𝗶𝗻𝘁 𝘃𝗮𝗹𝗶𝗱 𝗼𝗿 𝗶𝗻𝘃𝗮𝗹𝗶𝗱.\n",
    "email = input(\"Enter your email: \")\n",
    "if \"@\" in email:\n",
    "    print(\"Valid email\")\n",
    "else:\n",
    "    print(\"Invalid email\")"
   ]
  },
  {
   "cell_type": "code",
   "execution_count": null,
   "id": "4326c0cd",
   "metadata": {},
   "outputs": [],
   "source": [
    "#𝗧𝗮𝗸𝗲 𝘂𝘀𝗲𝗿 𝗶𝗻𝗽𝘂𝘁 𝗼𝗳 𝗮 𝘀𝗲𝗻𝘁𝗲𝗻𝗰𝗲. 𝗖𝗼𝘂𝗻𝘁 𝗵𝗼𝘄 𝗺𝗮𝗻𝘆 𝘁𝗶𝗺𝗲𝘀 𝘁𝗵𝗲 𝘄𝗼𝗿𝗱 \"the\" 𝗮𝗽𝗽𝗲𝗮𝗿𝘀.\n",
    "sentence = input(\"Enter a sentence: \")\n",
    "word_to_count = \"the\"\n",
    "count = sentence.lower().split().count(word_to_count)\n",
    "print(f\"The word '{word_to_count}' appears {count} times in the sentence.\")"
   ]
  },
  {
   "cell_type": "code",
   "execution_count": null,
   "id": "ad424775",
   "metadata": {},
   "outputs": [],
   "source": [
    "#𝗠𝗮𝗸𝗲 𝗮 𝗹𝗶𝘀𝘁 𝗼𝗳 𝗻𝘂𝗺𝗯𝗲𝗿𝘀 𝗳𝗿𝗼𝗺 𝟭 𝘁𝗼 𝟭𝟬 (𝗮𝘀 𝘀𝘁𝗿𝗶𝗻𝗴𝘀). 𝗖𝗼𝗻𝘃𝗲𝗿𝘁 𝘁𝗼 int, 𝗳𝗶𝗹𝘁𝗲𝗿 𝗼𝗻𝗹𝘆 𝗲𝘃𝗲𝗻 𝗻𝘂𝗺𝗯𝗲𝗿𝘀, 𝗮𝗻𝗱 𝗽𝗿𝗶𝗻𝘁 𝘁𝗵𝗲𝗺.\n",
    "numbers = [str(i) for i in range(1, 11)]\n",
    "even_numbers = [int(num) for num in numbers if int(num) % 2 ==0]\n",
    "print(f\"Even numbers from 1 to 10: {even_numbers}\")"
   ]
  }
 ],
 "metadata": {
  "language_info": {
   "name": "python"
  }
 },
 "nbformat": 4,
 "nbformat_minor": 5
}
